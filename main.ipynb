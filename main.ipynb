{
 "cells": [
  {
   "cell_type": "code",
   "execution_count": null,
   "metadata": {},
   "outputs": [
    {
     "name": "stdout",
     "output_type": "stream",
     "text": [
      "Extracted Features: {'Name': 'Sarvesh Pujare', 'Age': 24, 'Hospital Name': 'Jupiter Hospital', 'Diagnosis': 'He was hit by a short-distance delivery while playing cricket, resulting in a fractured right forearm.', 'Salary': None, 'Location': None, 'Policy ID': 'HPX12345678', 'Claim ID': 'CLM20240212002', 'Amount Charged': '₹2,75,000', 'Amount Paid': '₹2,50,000', 'Admit Date': '2024-02-12', 'Discharge Date': '2024-02-15', 'Surgery Performed': 'Open Reduction and Internal Fixation (ORIF) surgery on the same day', 'Medications': 'painkillers, antibiotics, calcium supplements'}\n"
     ]
    }
   ],
   "source": [
    "from langchain_community.llms import Ollama\n",
    "from langchain.prompts import PromptTemplate\n",
    "from langchain.output_parsers import StructuredOutputParser, ResponseSchema\n",
    "from langchain.chains import LLMChain\n",
    "import json\n",
    "\n",
    "# Initialize DeepSeek with Ollama\n",
    "llm = Ollama(model=\"deepseek-r1:1.5b\")\n",
    "\n",
    "# Define expected features in a structured format\n",
    "response_schemas = [\n",
    "    ResponseSchema(name=\"Name\", description=\"The full name of the person mentioned in the text\"),\n",
    "    ResponseSchema(name=\"Age\", description=\"The age of the person (if available)\"),\n",
    "    ResponseSchema(name=\"Hospital Name\", description=\"The company or organization the person works for\"),\n",
    "    ResponseSchema(name=\"Diagnosis\",description=\"Disease, illness or injury\"),\n",
    "    ResponseSchema(name=\"Salary\", description=\"The salary or compensation details (if available)\"),\n",
    "    ResponseSchema(name=\"Location\", description=\"The city or country where the person resides\"),\n",
    "    ResponseSchema(name=\"Policy ID\",description = \"Policy ID of the claim\"),\n",
    "    ResponseSchema(name=\"Claim ID\",description=\"Unique claim ID\"),\n",
    "    ResponseSchema(name=\"Amount Charged\", description=\"The total amount billed for the service,dont include currency\"),\n",
    "    ResponseSchema(name=\"Amount Paid\", description=\"The amount actually paid by insurance,dont include currency\"),\n",
    "    ResponseSchema(name=\"Admit Date\", description=\"The date when patient was admitted to hospital\"),\n",
    "    ResponseSchema(name=\"Discharge Date\", description=\"The date when patient was Discharged from hospital\"),\n",
    "    ResponseSchema(name=\"Surgery Performed\", description=\"Name of surgery/treatment performed\"),\n",
    "    ResponseSchema(name=\"Medications\", description=\"Names of medications, painkillers, antibiotics, etc prescribed\"),\n",
    "\n",
    "]\n",
    "\n",
    "# Initialize the output parser\n",
    "output_parser = StructuredOutputParser.from_response_schemas(response_schemas)\n",
    "\n",
    "# Define prompt template with enforced JSON output\n",
    "prompt_template = PromptTemplate(\n",
    "    input_variables=[\"text\"],\n",
    "    template=\"\"\"\n",
    "    Extract the following details from the provided unstructured text and return them in JSON format, Dont Include currency in Amount:\n",
    "\n",
    "    If any field is missing, explicitly return it as `null` (None in Python). Ensure the response is **only valid JSON** without extra text.\n",
    "\n",
    "    - Name\n",
    "    - Age\n",
    "    - Hospital Name\n",
    "    - Diagnosis\n",
    "    - Salary\n",
    "    - Location\n",
    "    - Policy ID\n",
    "    - Claim ID\n",
    "    - Amount Paid\n",
    "    - Amount Charged\n",
    "    - Admit date\n",
    "    - Discharge Date\n",
    "    - Surgery Performed\n",
    "    - Medications Prescribed\n",
    "    \n",
    "    Text:\n",
    "    {text}\n",
    "\n",
    "    Use the following JSON format:\n",
    "    {format_instructions}\n",
    "    \"\"\",\n",
    "    partial_variables={\"format_instructions\": output_parser.get_format_instructions()}\n",
    ")\n",
    "\n",
    "# Define a LangChain LLMChain\n",
    "llm_chain = LLMChain(llm=llm, prompt=prompt_template)\n",
    "\n",
    "def extract_features(unstructured_text):\n",
    "    \"\"\"Extracts relevant structured features from unstructured text.\"\"\"\n",
    "    response = llm_chain.run(text=unstructured_text)\n",
    "    parsed_response = output_parser.parse(response)\n",
    "    return parsed_response\n",
    "\n",
    "def clean_and_convert_to_json(extracted_data):\n",
    "    \"\"\"\n",
    "    Converts extracted dictionary to JSON, replacing empty strings with None.\n",
    "\n",
    "    Args:\n",
    "    - extracted_data (dict): Dictionary containing extracted features.\n",
    "\n",
    "    Returns:\n",
    "    - str: JSON formatted string with empty strings converted to None.\n",
    "    \"\"\"\n",
    "    cleaned_data = {key: None if isinstance(value, str) and value.strip() == \"\" else value \n",
    "                    for key, value in extracted_data.items()}\n",
    "\n",
    "    return json.dumps(cleaned_data, indent=4)\n",
    "\n",
    "# Example usage\n",
    "if __name__ == \"__main__\":\n",
    "    text_data = \"\"\"\n",
    "    Sarvesh Pujare, aged 24, was admitted to Jupiter Hospital on February 12, 2024, after he was hit by a short-distance delivery while playing cricket, resulting in a fractured right forearm. He was diagnosed with a displaced radius fracture and underwent an Open Reduction and Internal Fixation (ORIF) surgery on the same day. His insurance policy ID is HPX12345678 under MediCare Insurance, and his claim ID is CLM20240212002. The total amount charged for his hospitalization, surgery, and post-operative care was ₹2,75,000, out of which the insurance provider approved and paid ₹2,50,000. The remaining ₹25,000 was covered by Sarvesh as part of his deductible and co-payment. He was discharged on February 15, 2024, with a prescribed physiotherapy plan for recovery over the next six weeks. Medications prescribed included painkillers (Ibuprofen 400mg), antibiotics (Amoxicillin 500mg), and calcium supplements for bone healing.  \n",
    "    \"\"\"\n",
    "\n",
    "    extracted_info = extract_features(text_data)\n",
    "    print(\"Extracted Features:\", extracted_info)\n",
    "    json_output = clean_and_convert_to_json(extracted_info)\n",
    "    with open(\"extracted_claim.json\", \"w\") as json_file:\n",
    "        json.dump(extracted_info, json_file, indent=4)\n",
    "    \n",
    "\n"
   ]
  },
  {
   "cell_type": "code",
   "execution_count": null,
   "metadata": {},
   "outputs": [],
   "source": []
  },
  {
   "cell_type": "code",
   "execution_count": null,
   "metadata": {},
   "outputs": [],
   "source": []
  },
  {
   "cell_type": "markdown",
   "metadata": {},
   "source": []
  },
  {
   "cell_type": "code",
   "execution_count": null,
   "metadata": {},
   "outputs": [],
   "source": []
  },
  {
   "cell_type": "code",
   "execution_count": null,
   "metadata": {},
   "outputs": [],
   "source": []
  },
  {
   "cell_type": "code",
   "execution_count": null,
   "metadata": {},
   "outputs": [],
   "source": []
  },
  {
   "cell_type": "code",
   "execution_count": null,
   "metadata": {},
   "outputs": [],
   "source": []
  },
  {
   "cell_type": "code",
   "execution_count": null,
   "metadata": {},
   "outputs": [],
   "source": []
  }
 ],
 "metadata": {
  "kernelspec": {
   "display_name": "env",
   "language": "python",
   "name": "python3"
  },
  "language_info": {
   "codemirror_mode": {
    "name": "ipython",
    "version": 3
   },
   "file_extension": ".py",
   "mimetype": "text/x-python",
   "name": "python",
   "nbconvert_exporter": "python",
   "pygments_lexer": "ipython3",
   "version": "3.12.5"
  }
 },
 "nbformat": 4,
 "nbformat_minor": 2
}
